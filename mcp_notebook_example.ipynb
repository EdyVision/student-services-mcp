{
 "cells": [
  {
   "cell_type": "markdown",
   "metadata": {},
   "source": [
    "# Student Services MCP Demo Notebook\n",
    "\n",
    "Author: Eidan J. Rosado\n",
    "\n",
    "This notebook is meant as an example to end-users on how to leverage the StudentServicesMCPClient from the repo and use the exposed tools. For details on how to use this with Cursor, see README.md."
   ]
  },
  {
   "cell_type": "markdown",
   "metadata": {},
   "source": [
    "### Import Dependencies and Constants"
   ]
  },
  {
   "cell_type": "code",
   "execution_count": 3,
   "metadata": {},
   "outputs": [],
   "source": [
    "# First cell - Import the MCP session\n",
    "import os\n",
    "import json\n",
    "import pandas as pd\n",
    "from src.client import StudentServicesMCPClient\n",
    "from src.utils.generate_test_jwt import generate_jwt\n",
    "from src.config.settings import settings\n",
    "\n",
    "# Choose between your hugging face space or local server\n",
    "BASE_URL = f\"http://{settings.server.HOST}:{settings.server.PORT}/mcp\"\n",
    "HF_SPACE_URL = f\"{settings.hf.HUGGINGFACE_SPACE_URL}/mcp\""
   ]
  },
  {
   "cell_type": "markdown",
   "metadata": {},
   "source": [
    "Note: Due to the way HuggingFace spaces work, the private space will allow the first call with the token to go through, but each call following that call requires the Bearer token and that is not currently supported in the library's current state."
   ]
  },
  {
   "cell_type": "code",
   "execution_count": 4,
   "metadata": {},
   "outputs": [],
   "source": [
    "# _, token = generate_jwt()  # Use to test JWT flow"
   ]
  },
  {
   "cell_type": "markdown",
   "metadata": {},
   "source": [
    "### Connect to Server"
   ]
  },
  {
   "cell_type": "code",
   "execution_count": 5,
   "metadata": {},
   "outputs": [
    {
     "name": "stdout",
     "output_type": "stream",
     "text": [
      "\n",
      "Connecting to server at: https://edyvision-student-services-demo-mcp.hf.space/mcp\n",
      "\n",
      "Connected to server with tools: ['root__get', 'fetch_student_profile', 'fetch_students', 'fetch_academic_history', 'check_financial_aid_eligibility']\n"
     ]
    }
   ],
   "source": [
    "# Setup the client\n",
    "client = StudentServicesMCPClient(\n",
    "    base_url=HF_SPACE_URL,\n",
    "    auth_token=settings.hf.HUGGINGFACE_TOKEN,\n",
    ")\n",
    "await client.connect_to_server()"
   ]
  },
  {
   "cell_type": "markdown",
   "metadata": {},
   "source": [
    "### Fetch Top n Students"
   ]
  },
  {
   "cell_type": "code",
   "execution_count": 6,
   "metadata": {},
   "outputs": [
    {
     "data": {
      "text/html": [
       "<div>\n",
       "<style scoped>\n",
       "    .dataframe tbody tr th:only-of-type {\n",
       "        vertical-align: middle;\n",
       "    }\n",
       "\n",
       "    .dataframe tbody tr th {\n",
       "        vertical-align: top;\n",
       "    }\n",
       "\n",
       "    .dataframe thead th {\n",
       "        text-align: right;\n",
       "    }\n",
       "</style>\n",
       "<table border=\"1\" class=\"dataframe\">\n",
       "  <thead>\n",
       "    <tr style=\"text-align: right;\">\n",
       "      <th></th>\n",
       "      <th>student_id</th>\n",
       "      <th>name</th>\n",
       "      <th>courses</th>\n",
       "      <th>is_need_based_qualified</th>\n",
       "      <th>enrollment_status</th>\n",
       "      <th>major</th>\n",
       "      <th>program</th>\n",
       "      <th>year</th>\n",
       "      <th>gpa</th>\n",
       "    </tr>\n",
       "  </thead>\n",
       "  <tbody>\n",
       "    <tr>\n",
       "      <th>0</th>\n",
       "      <td>df62674f-5641-4657-a614-901a22ea76f2</td>\n",
       "      <td>Allison Hill</td>\n",
       "      <td>['ENG202', 'BIO204', 'PHIL101', 'CS101', 'HIST...</td>\n",
       "      <td>True</td>\n",
       "      <td>enrolled</td>\n",
       "      <td>English Literature</td>\n",
       "      <td>B.A. in Comparative Literature</td>\n",
       "      <td>Senior</td>\n",
       "      <td>2.22</td>\n",
       "    </tr>\n",
       "    <tr>\n",
       "      <th>1</th>\n",
       "      <td>d777f2b6-906f-4703-a5f3-efac47766ac0</td>\n",
       "      <td>Megan Mcclain</td>\n",
       "      <td>['ENG202', 'BIO204', 'HIST300']</td>\n",
       "      <td>True</td>\n",
       "      <td>enrolled</td>\n",
       "      <td>Nursing</td>\n",
       "      <td>B.S. in Nursing (BSN)</td>\n",
       "      <td>Junior</td>\n",
       "      <td>2.84</td>\n",
       "    </tr>\n",
       "    <tr>\n",
       "      <th>2</th>\n",
       "      <td>1daf22b9-fbdc-48d8-ac64-abb8d4b775b0</td>\n",
       "      <td>Allen Robinson</td>\n",
       "      <td>['ENG202', 'CHEM121', 'HIST300', 'PSY110', 'CS...</td>\n",
       "      <td>False</td>\n",
       "      <td>enrolled</td>\n",
       "      <td>Nursing</td>\n",
       "      <td>B.S. in Nursing (BSN)</td>\n",
       "      <td>Junior</td>\n",
       "      <td>2.05</td>\n",
       "    </tr>\n",
       "    <tr>\n",
       "      <th>3</th>\n",
       "      <td>c0ad1251-fef1-4ec0-8914-046fb4119492</td>\n",
       "      <td>Cristian Santos</td>\n",
       "      <td>['ENG202', 'PHIL101', 'PSY110', 'CS101']</td>\n",
       "      <td>True</td>\n",
       "      <td>enrolled</td>\n",
       "      <td>English Literature</td>\n",
       "      <td>B.A. in Creative Writing</td>\n",
       "      <td>Senior</td>\n",
       "      <td>2.85</td>\n",
       "    </tr>\n",
       "    <tr>\n",
       "      <th>4</th>\n",
       "      <td>e73992d2-6535-43d8-9c3e-afb3bb6463c8</td>\n",
       "      <td>Kevin Pacheco</td>\n",
       "      <td>['HIST300', 'PHIL101', 'CS101', 'ENG202', 'MAT...</td>\n",
       "      <td>True</td>\n",
       "      <td>enrolled</td>\n",
       "      <td>Computer Science</td>\n",
       "      <td>B.S. in Cybersecurity</td>\n",
       "      <td>Senior</td>\n",
       "      <td>2.76</td>\n",
       "    </tr>\n",
       "    <tr>\n",
       "      <th>5</th>\n",
       "      <td>1ef1b24e-57d3-4bbc-ac6e-e7998526fb98</td>\n",
       "      <td>Melissa Peterson</td>\n",
       "      <td>['ENG202', 'MATH150', 'CS101', 'PHIL101', 'BIO...</td>\n",
       "      <td>True</td>\n",
       "      <td>enrolled</td>\n",
       "      <td>Economics</td>\n",
       "      <td>B.S. in Quantitative Economics</td>\n",
       "      <td>Freshman</td>\n",
       "      <td>2.16</td>\n",
       "    </tr>\n",
       "    <tr>\n",
       "      <th>6</th>\n",
       "      <td>4c6549d0-096d-4c92-b271-911d93117d42</td>\n",
       "      <td>Gabrielle Davis</td>\n",
       "      <td>['PHIL101', 'PSY110', 'ENG202']</td>\n",
       "      <td>False</td>\n",
       "      <td>enrolled</td>\n",
       "      <td>Biology</td>\n",
       "      <td>B.S. in Molecular Biology</td>\n",
       "      <td>Freshman</td>\n",
       "      <td>3.97</td>\n",
       "    </tr>\n",
       "    <tr>\n",
       "      <th>7</th>\n",
       "      <td>fed2a7af-7567-4ba8-b431-f9c86a87812f</td>\n",
       "      <td>Lindsey Roman</td>\n",
       "      <td>['MATH150', 'BIO204', 'CHEM121', 'PSY110', 'CS...</td>\n",
       "      <td>False</td>\n",
       "      <td>enrolled</td>\n",
       "      <td>English Literature</td>\n",
       "      <td>B.A. in English Literature</td>\n",
       "      <td>Sophomore</td>\n",
       "      <td>3.67</td>\n",
       "    </tr>\n",
       "    <tr>\n",
       "      <th>8</th>\n",
       "      <td>5dbeccea-947a-4817-b3cb-2c9231bac4f5</td>\n",
       "      <td>Valerie Gray</td>\n",
       "      <td>['PSY110', 'ENG202', 'PHIL101', 'CHEM121']</td>\n",
       "      <td>False</td>\n",
       "      <td>enrolled</td>\n",
       "      <td>Nursing</td>\n",
       "      <td>RN to BSN Track</td>\n",
       "      <td>Senior</td>\n",
       "      <td>3.27</td>\n",
       "    </tr>\n",
       "    <tr>\n",
       "      <th>9</th>\n",
       "      <td>47fcc672-72e7-4ef0-87d4-51e800c3dd31</td>\n",
       "      <td>Lisa Hensley</td>\n",
       "      <td>['CS101', 'BIO204', 'CHEM121', 'PSY110', 'ENG2...</td>\n",
       "      <td>False</td>\n",
       "      <td>enrolled</td>\n",
       "      <td>English Literature</td>\n",
       "      <td>B.A. in English Literature</td>\n",
       "      <td>Senior</td>\n",
       "      <td>3.38</td>\n",
       "    </tr>\n",
       "  </tbody>\n",
       "</table>\n",
       "</div>"
      ],
      "text/plain": [
       "                             student_id              name  \\\n",
       "0  df62674f-5641-4657-a614-901a22ea76f2      Allison Hill   \n",
       "1  d777f2b6-906f-4703-a5f3-efac47766ac0     Megan Mcclain   \n",
       "2  1daf22b9-fbdc-48d8-ac64-abb8d4b775b0    Allen Robinson   \n",
       "3  c0ad1251-fef1-4ec0-8914-046fb4119492   Cristian Santos   \n",
       "4  e73992d2-6535-43d8-9c3e-afb3bb6463c8     Kevin Pacheco   \n",
       "5  1ef1b24e-57d3-4bbc-ac6e-e7998526fb98  Melissa Peterson   \n",
       "6  4c6549d0-096d-4c92-b271-911d93117d42   Gabrielle Davis   \n",
       "7  fed2a7af-7567-4ba8-b431-f9c86a87812f     Lindsey Roman   \n",
       "8  5dbeccea-947a-4817-b3cb-2c9231bac4f5      Valerie Gray   \n",
       "9  47fcc672-72e7-4ef0-87d4-51e800c3dd31      Lisa Hensley   \n",
       "\n",
       "                                             courses  is_need_based_qualified  \\\n",
       "0  ['ENG202', 'BIO204', 'PHIL101', 'CS101', 'HIST...                     True   \n",
       "1                    ['ENG202', 'BIO204', 'HIST300']                     True   \n",
       "2  ['ENG202', 'CHEM121', 'HIST300', 'PSY110', 'CS...                    False   \n",
       "3           ['ENG202', 'PHIL101', 'PSY110', 'CS101']                     True   \n",
       "4  ['HIST300', 'PHIL101', 'CS101', 'ENG202', 'MAT...                     True   \n",
       "5  ['ENG202', 'MATH150', 'CS101', 'PHIL101', 'BIO...                     True   \n",
       "6                    ['PHIL101', 'PSY110', 'ENG202']                    False   \n",
       "7  ['MATH150', 'BIO204', 'CHEM121', 'PSY110', 'CS...                    False   \n",
       "8         ['PSY110', 'ENG202', 'PHIL101', 'CHEM121']                    False   \n",
       "9  ['CS101', 'BIO204', 'CHEM121', 'PSY110', 'ENG2...                    False   \n",
       "\n",
       "  enrollment_status               major                         program  \\\n",
       "0          enrolled  English Literature  B.A. in Comparative Literature   \n",
       "1          enrolled             Nursing           B.S. in Nursing (BSN)   \n",
       "2          enrolled             Nursing           B.S. in Nursing (BSN)   \n",
       "3          enrolled  English Literature        B.A. in Creative Writing   \n",
       "4          enrolled    Computer Science           B.S. in Cybersecurity   \n",
       "5          enrolled           Economics  B.S. in Quantitative Economics   \n",
       "6          enrolled             Biology       B.S. in Molecular Biology   \n",
       "7          enrolled  English Literature      B.A. in English Literature   \n",
       "8          enrolled             Nursing                 RN to BSN Track   \n",
       "9          enrolled  English Literature      B.A. in English Literature   \n",
       "\n",
       "        year   gpa  \n",
       "0     Senior  2.22  \n",
       "1     Junior  2.84  \n",
       "2     Junior  2.05  \n",
       "3     Senior  2.85  \n",
       "4     Senior  2.76  \n",
       "5   Freshman  2.16  \n",
       "6   Freshman  3.97  \n",
       "7  Sophomore  3.67  \n",
       "8     Senior  3.27  \n",
       "9     Senior  3.38  "
      ]
     },
     "execution_count": 6,
     "metadata": {},
     "output_type": "execute_result"
    }
   ],
   "source": [
    "# Fetch students\n",
    "limit = 10\n",
    "students_result = await client.fetch_students(limit=limit)\n",
    "\n",
    "students = json.loads(students_result[0].text)\n",
    "students_df = pd.DataFrame(students)\n",
    "students_df"
   ]
  },
  {
   "cell_type": "markdown",
   "metadata": {},
   "source": [
    "### Fetch Financial Aid Eligibility for Students"
   ]
  },
  {
   "cell_type": "code",
   "execution_count": 7,
   "metadata": {},
   "outputs": [
    {
     "data": {
      "text/plain": [
       "{'student_id': 'df62674f-5641-4657-a614-901a22ea76f2',\n",
       " 'name': 'Allison Hill',\n",
       " 'courses': \"['ENG202', 'BIO204', 'PHIL101', 'CS101', 'HIST300']\",\n",
       " 'is_need_based_qualified': True,\n",
       " 'enrollment_status': 'enrolled',\n",
       " 'major': 'English Literature',\n",
       " 'program': 'B.A. in Comparative Literature',\n",
       " 'year': 'Senior',\n",
       " 'gpa': 2.22}"
      ]
     },
     "execution_count": 7,
     "metadata": {},
     "output_type": "execute_result"
    }
   ],
   "source": [
    "students[0]"
   ]
  },
  {
   "cell_type": "code",
   "execution_count": 8,
   "metadata": {},
   "outputs": [
    {
     "name": "stdout",
     "output_type": "stream",
     "text": [
      "\"Student Allison Hill (ID: df62674f-5641-4657-a614-901a22ea76f2) has a GPA of 2.22 in English Literature. They are eligible for the ['Humanities Excellence Scholarship']. Requirements: ['Field of Study in Humanities']\"\n"
     ]
    }
   ],
   "source": [
    "# Check eligibility for Allison Hill\n",
    "eligibility = await client.check_financial_aid_eligibility(students[0][\"student_id\"])\n",
    "print(eligibility[0].text)"
   ]
  },
  {
   "cell_type": "code",
   "execution_count": 9,
   "metadata": {},
   "outputs": [
    {
     "data": {
      "text/plain": [
       "{'student_id': 'e73992d2-6535-43d8-9c3e-afb3bb6463c8',\n",
       " 'name': 'Kevin Pacheco',\n",
       " 'courses': \"['HIST300', 'PHIL101', 'CS101', 'ENG202', 'MATH150']\",\n",
       " 'is_need_based_qualified': True,\n",
       " 'enrollment_status': 'enrolled',\n",
       " 'major': 'Computer Science',\n",
       " 'program': 'B.S. in Cybersecurity',\n",
       " 'year': 'Senior',\n",
       " 'gpa': 2.76}"
      ]
     },
     "execution_count": 9,
     "metadata": {},
     "output_type": "execute_result"
    }
   ],
   "source": [
    "students[4]"
   ]
  },
  {
   "cell_type": "code",
   "execution_count": 10,
   "metadata": {},
   "outputs": [
    {
     "name": "stdout",
     "output_type": "stream",
     "text": [
      "\"Student Kevin Pacheco (ID: e73992d2-6535-43d8-9c3e-afb3bb6463c8) has a GPA of 2.76 in Computer Science. They are eligible for the ['STEM Excellence Award']. Requirements: ['Field of Study in STEM']\"\n"
     ]
    }
   ],
   "source": [
    "# Check eligibility for Student 4\n",
    "eligibility = await client.check_financial_aid_eligibility(students[4][\"student_id\"])\n",
    "print(eligibility[0].text)"
   ]
  }
 ],
 "metadata": {
  "kernelspec": {
   "display_name": ".venv",
   "language": "python",
   "name": "python3"
  },
  "language_info": {
   "codemirror_mode": {
    "name": "ipython",
    "version": 3
   },
   "file_extension": ".py",
   "mimetype": "text/x-python",
   "name": "python",
   "nbconvert_exporter": "python",
   "pygments_lexer": "ipython3",
   "version": "3.13.2"
  }
 },
 "nbformat": 4,
 "nbformat_minor": 2
}
